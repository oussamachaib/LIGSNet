{
 "cells": [
  {
   "cell_type": "markdown",
   "id": "7cc33639-2447-4c70-9bdd-41ca28047fb4",
   "metadata": {},
   "source": [
    "# Demo 1: Predicting harmonic constants $n_h$ from LIGS time series"
   ]
  },
  {
   "cell_type": "markdown",
   "id": "60e8ade3-88f5-4971-88e5-c7e56903d867",
   "metadata": {},
   "source": [
    "This notebook is a short demonstration of the LIGSNet classifier for the prediction of LIGS harmonic constants.\\\n",
    "The learning problem can be be framed as a simple binary classification problem, where the prediction of $n_h$ amounts to classifying the signal as thermal or electrostrictive.\\\n",
    "The model consists of a CNN pretrained in a convolutional autoencoder setting. The network was trained on a LIGS data set acquired in a high-pressure hydrogen-air gas turbine engine [(Chaib et al. 2024)](https://doi.org/10.1115/1.4065996) at the Gas Turbine Research Center (Cardiff, Wales, UK).\\\n",
    "The data set was augmented with random translations, through which the network was able to acquire translation invariance. Accuracies evaluated on translated and untranslated data are estimated at 90%.\\\n",
    "More details are provided in the associated paper(s)."
   ]
  },
  {
   "cell_type": "markdown",
   "id": "05197aee-9df4-45a1-9dd1-c51d73078b1e",
   "metadata": {},
   "source": [
    "## Loading packages"
   ]
  },
  {
   "cell_type": "markdown",
   "id": "8b42c7f9-362c-49d6-82b7-84bff029616a",
   "metadata": {},
   "source": [
    "### Loading base packages"
   ]
  },
  {
   "cell_type": "code",
   "execution_count": 1,
   "id": "881c7774-cebb-4c02-91a7-467c5535d5e0",
   "metadata": {},
   "outputs": [
    {
     "name": "stdout",
     "output_type": "stream",
     "text": [
      "Current directory: /Users/oussamachaib/Documents/GitHub/LIGSNet\n"
     ]
    }
   ],
   "source": [
    "import numpy as np\n",
    "import matplotlib.pyplot as plt\n",
    "import sys\n",
    "import os\n",
    "import torch\n",
    "from sklearn.metrics import classification_report\n",
    "\n",
    "if \"CHDIR_EXECUTED\" not in globals():\n",
    "    os.chdir(\"..\")\n",
    "    CHDIR_EXECUTED = True\n",
    "\n",
    "print(\"Current directory: \" + os.getcwd())"
   ]
  },
  {
   "cell_type": "markdown",
   "id": "f93f54f6-b07e-4b82-86db-392645e555ea",
   "metadata": {},
   "source": [
    "### Loading custom packages"
   ]
  },
  {
   "cell_type": "code",
   "execution_count": 2,
   "id": "b3e9b8e3-175e-401b-8cf5-b054a73fdb46",
   "metadata": {},
   "outputs": [],
   "source": [
    "from loaders import load_preprocessed\n",
    "from models.ConvClassifier import CNN"
   ]
  },
  {
   "cell_type": "markdown",
   "id": "f819e5cb-f0af-419b-9e62-e4f67e536623",
   "metadata": {},
   "source": [
    "## Visualizing data"
   ]
  },
  {
   "cell_type": "markdown",
   "id": "5864c295-7803-48f8-a03f-f703e92f4bb2",
   "metadata": {},
   "source": [
    "### Loading preprocessed LIGS data set"
   ]
  },
  {
   "cell_type": "markdown",
   "id": "6c1cae4d-26b3-464f-8161-1e20a0e70583",
   "metadata": {},
   "source": [
    "The preprocessed data set consists of:\n",
    "* X : $n\\times p$ matrix where rows correspond to individual observations (signals) and columns are features (voltage measurements per unit time)\n",
    "* y : $n$ labels (one for each signal) depicting the dominant grating formation mechanism of each signal (0: thermal, 1: electrostrictive)\n",
    "\n",
    "*Note*: The labels \"y\" are, in reality, pseudolabels obtained via the unsupervised framework \"tulip\", which can be found in the following repo: https://github.com/oussamachaib/tulips"
   ]
  },
  {
   "cell_type": "code",
   "execution_count": 3,
   "id": "a27499f6-dd55-4e50-830f-4a79d866e94b",
   "metadata": {},
   "outputs": [],
   "source": [
    "X, y =  load_preprocessed()"
   ]
  },
  {
   "cell_type": "markdown",
   "id": "20c2e276-cebd-4cd2-a299-c37c23f59c1c",
   "metadata": {},
   "source": [
    "### Plotting a signal"
   ]
  },
  {
   "cell_type": "code",
   "execution_count": 4,
   "id": "d13fd6db-93ea-4bda-885a-fa0f8d970162",
   "metadata": {},
   "outputs": [
    {
     "data": {
      "image/png": "[encoded data removed]",
      "text/plain": [
       "<Figure size 640x480 with 1 Axes>"
      ]
     },
     "metadata": {},
     "output_type": "display_data"
    }
   ],
   "source": [
    "n = 24999\n",
    "plt.figure()\n",
    "plt.plot(X[n,:])\n",
    "plt.title(f\"label : {y[n]}\")\n",
    "plt.show()"
   ]
  },
  {
   "cell_type": "markdown",
   "id": "1dfd575c-2889-4ddf-9b90-12c2ac1ff1b8",
   "metadata": {},
   "source": [
    "## Loading pretrained CNN"
   ]
  },
  {
   "cell_type": "markdown",
   "id": "04ad0856-3921-4079-9b7e-32b61403f83e",
   "metadata": {},
   "source": [
    "Some clarifications:\n",
    "1. The CNN is located in the \"models\" folder. It is sufficient to call the CNN class once to load the model.\n",
    "2. Calling the \"load_pretrained()\" method will load the pretrained CNN. The latter was trained on the preprocessed data set augmented with random translations across the 1D canvas."
   ]
  },
  {
   "cell_type": "code",
   "execution_count": 5,
   "id": "c5d954fc-ee24-41c1-9ef0-6ff52fdea114",
   "metadata": {
    "scrolled": true
   },
   "outputs": [],
   "source": [
    "model = CNN()\n",
    "model = model.load_pretrained()\n",
    "model.to('cpu');"
   ]
  },
  {
   "cell_type": "markdown",
   "id": "ac2e2305-c742-4029-ae5d-0ec197c0e955",
   "metadata": {},
   "source": [
    "We can visualize the architecture of the network. It is a relatively standard CNN architecture with a convolutional backbone and a set of dense or fully-connected layers. The convolutional backbone is identical to that of the encoder, whose final parameters (i.e., after training) were used to initialize the CNN.\\\n",
    "Both the encoder and decoder attributes were kept in the \"ConvClassifier\" class for reference only."
   ]
  },
  {
   "cell_type": "code",
   "execution_count": 6,
   "id": "a57ec37a-36f4-4234-9250-0e21f30e269b",
   "metadata": {
    "scrolled": true
   },
   "outputs": [
    {
     "data": {
      "text/plain": [
       "CNN(\n",
       "  (encoder): Sequential(\n",
       "    (0): Conv1d(1, 12, kernel_size=(19,), stride=(3,))\n",
       "    (1): LeakyReLU(negative_slope=0.01)\n",
       "    (2): Conv1d(12, 12, kernel_size=(19,), stride=(2,))\n",
       "    (3): LeakyReLU(negative_slope=0.01)\n",
       "    (4): Conv1d(12, 24, kernel_size=(7,), stride=(2,))\n",
       "    (5): LeakyReLU(negative_slope=0.01)\n",
       "    (6): Conv1d(24, 24, kernel_size=(5,), stride=(2,))\n",
       "    (7): LeakyReLU(negative_slope=0.01)\n",
       "    (8): Conv1d(24, 48, kernel_size=(5,), stride=(2,))\n",
       "    (9): LeakyReLU(negative_slope=0.01)\n",
       "    (10): Conv1d(48, 48, kernel_size=(5,), stride=(2,))\n",
       "    (11): LeakyReLU(negative_slope=0.01)\n",
       "    (12): Conv1d(48, 48, kernel_size=(3,), stride=(2,))\n",
       "    (13): LeakyReLU(negative_slope=0.01)\n",
       "    (14): Flatten(start_dim=1, end_dim=-1)\n",
       "    (15): Linear(in_features=1344, out_features=100, bias=True)\n",
       "    (16): LeakyReLU(negative_slope=0.01)\n",
       "    (17): Linear(in_features=100, out_features=50, bias=True)\n",
       "    (18): LeakyReLU(negative_slope=0.01)\n",
       "    (19): Linear(in_features=50, out_features=10, bias=True)\n",
       "    (20): LeakyReLU(negative_slope=0.01)\n",
       "    (21): Linear(in_features=10, out_features=1, bias=True)\n",
       "  )\n",
       "  (decoder): Sequential(\n",
       "    (0): Linear(in_features=1, out_features=10, bias=True)\n",
       "    (1): LeakyReLU(negative_slope=0.01)\n",
       "    (2): Linear(in_features=10, out_features=50, bias=True)\n",
       "    (3): LeakyReLU(negative_slope=0.01)\n",
       "    (4): Linear(in_features=50, out_features=100, bias=True)\n",
       "    (5): LeakyReLU(negative_slope=0.01)\n",
       "    (6): Linear(in_features=100, out_features=1344, bias=True)\n",
       "    (7): Unflatten(dim=1, unflattened_size=(48, 28))\n",
       "    (8): LeakyReLU(negative_slope=0.01)\n",
       "    (9): ConvTranspose1d(48, 48, kernel_size=(3,), stride=(2,), output_padding=(1,))\n",
       "    (10): LeakyReLU(negative_slope=0.01)\n",
       "    (11): ConvTranspose1d(48, 48, kernel_size=(5,), stride=(2,), output_padding=(1,))\n",
       "    (12): LeakyReLU(negative_slope=0.01)\n",
       "    (13): ConvTranspose1d(48, 24, kernel_size=(5,), stride=(2,), output_padding=(1,))\n",
       "    (14): LeakyReLU(negative_slope=0.01)\n",
       "    (15): ConvTranspose1d(24, 24, kernel_size=(5,), stride=(2,))\n",
       "    (16): LeakyReLU(negative_slope=0.01)\n",
       "    (17): ConvTranspose1d(24, 12, kernel_size=(7,), stride=(2,), output_padding=(1,))\n",
       "    (18): LeakyReLU(negative_slope=0.01)\n",
       "    (19): ConvTranspose1d(12, 12, kernel_size=(19,), stride=(2,), output_padding=(1,))\n",
       "    (20): LeakyReLU(negative_slope=0.01)\n",
       "    (21): ConvTranspose1d(12, 1, kernel_size=(19,), stride=(3,), output_padding=(2,))\n",
       "  )\n",
       "  (cnn): Sequential(\n",
       "    (0): Conv1d(1, 12, kernel_size=(19,), stride=(3,))\n",
       "    (1): LeakyReLU(negative_slope=0.01)\n",
       "    (2): Conv1d(12, 12, kernel_size=(19,), stride=(2,))\n",
       "    (3): LeakyReLU(negative_slope=0.01)\n",
       "    (4): Conv1d(12, 24, kernel_size=(7,), stride=(2,))\n",
       "    (5): LeakyReLU(negative_slope=0.01)\n",
       "    (6): Conv1d(24, 24, kernel_size=(5,), stride=(2,))\n",
       "    (7): LeakyReLU(negative_slope=0.01)\n",
       "    (8): Conv1d(24, 48, kernel_size=(5,), stride=(2,))\n",
       "    (9): LeakyReLU(negative_slope=0.01)\n",
       "    (10): Conv1d(48, 48, kernel_size=(5,), stride=(2,))\n",
       "    (11): LeakyReLU(negative_slope=0.01)\n",
       "    (12): Conv1d(48, 48, kernel_size=(3,), stride=(2,))\n",
       "    (13): LeakyReLU(negative_slope=0.01)\n",
       "    (14): Flatten(start_dim=1, end_dim=-1)\n",
       "  )\n",
       "  (fc): Sequential(\n",
       "    (0): Linear(in_features=1344, out_features=100, bias=True)\n",
       "    (1): LeakyReLU(negative_slope=0.01)\n",
       "    (2): Linear(in_features=100, out_features=100, bias=True)\n",
       "    (3): LeakyReLU(negative_slope=0.01)\n",
       "    (4): Linear(in_features=100, out_features=1, bias=True)\n",
       "    (5): Sigmoid()\n",
       "  )\n",
       ")"
      ]
     },
     "execution_count": 6,
     "metadata": {},
     "output_type": "execute_result"
    }
   ],
   "source": [
    "model"
   ]
  },
  {
   "cell_type": "markdown",
   "id": "a5132caf-bda9-4bba-af57-5eed30a26da3",
   "metadata": {},
   "source": [
    "## Inference"
   ]
  },
  {
   "cell_type": "markdown",
   "id": "ecc35003-ce9f-45c1-bd46-cf801e38352d",
   "metadata": {},
   "source": [
    "We can now start making predictions. A simple forward prop will output the content of the final neuron, which is a soft probability of electrostriction (between 0 and 1). The inference is a relatively light operation and it is sufficient to run it on the CPU."
   ]
  },
  {
   "cell_type": "markdown",
   "id": "d0ad5bac-3c90-4719-81e2-c086eceb078d",
   "metadata": {},
   "source": [
    "Prior to that, some conversions should be made:\n",
    "1. The data set has to be converted to a torch.float32 tensor.\n",
    "2. The data set should be in the shape ($n$,1,$p$) where $n$ and $p$ refer to the number of observations (signals) and the number of features ($6000$ voltage measurements per unit time, by definition). The second dimension is the number of channels which is always going to be unity in the present setting."
   ]
  },
  {
   "cell_type": "code",
   "execution_count": 7,
   "id": "35d0c46e-8076-43e9-8d00-0cd662a9b454",
   "metadata": {},
   "outputs": [
    {
     "data": {
      "text/plain": [
       "(1, 1, 6000)"
      ]
     },
     "execution_count": 7,
     "metadata": {},
     "output_type": "execute_result"
    }
   ],
   "source": [
    "S = X[n,:][np.newaxis, np.newaxis,:].astype(np.float32)\n",
    "S.shape"
   ]
  },
  {
   "cell_type": "code",
   "execution_count": 8,
   "id": "df902e34-e498-4aa2-bb88-90e4b1ba4397",
   "metadata": {},
   "outputs": [
    {
     "name": "stderr",
     "output_type": "stream",
     "text": [
      "[W NNPACK.cpp:64] Could not initialize NNPACK! Reason: Unsupported hardware.\n"
     ]
    }
   ],
   "source": [
    "model.eval()\n",
    "with torch.no_grad():\n",
    "    pred = model.forward(torch.from_numpy(S))[0][0]"
   ]
  },
  {
   "cell_type": "code",
   "execution_count": 9,
   "id": "e7cbc112-d534-41e8-9167-14f29cf3fb2a",
   "metadata": {},
   "outputs": [
    {
     "name": "stdout",
     "output_type": "stream",
     "text": [
      "Signal 24999 is thermal (n_h = 1) | Probability: 96.07%\n"
     ]
    }
   ],
   "source": [
    "d = {'1': 'thermal', '2': 'electrostrictive'}\n",
    "decision_level = 0.5\n",
    "harmonic = int((pred>=decision_level)+1)\n",
    "mechanism = d[f\"{harmonic}\"]\n",
    "\n",
    "print(f'Signal {n} is '+ mechanism + f' (n_h = {harmonic}) | Probability: {abs((2 - harmonic) - pred)*100:3.2f}%')"
   ]
  },
  {
   "cell_type": "markdown",
   "id": "5f52df38-9e67-48a4-b0c8-42bf3f1de69e",
   "metadata": {},
   "source": [
    "We can also try running the model on the full data set and compare its output to our labels."
   ]
  },
  {
   "cell_type": "code",
   "execution_count": 10,
   "id": "b7ff1aa6-8622-4151-89c7-a387b2138d3b",
   "metadata": {},
   "outputs": [],
   "source": [
    "S = X.astype(np.float32)\n",
    "\n",
    "with torch.no_grad():\n",
    "    pred = model.forward(torch.from_numpy(S).unsqueeze(1))\n",
    "\n",
    "harmonic = np.array(pred[:,0].numpy()>=0.5).astype(int)"
   ]
  },
  {
   "cell_type": "code",
   "execution_count": 11,
   "id": "32fae717-1389-4b16-9768-a768b864b070",
   "metadata": {},
   "outputs": [
    {
     "name": "stdout",
     "output_type": "stream",
     "text": [
      "              precision    recall  f1-score   support\n",
      "\n",
      "           0       0.97      0.80      0.88     11512\n",
      "           1       0.85      0.98      0.91     13488\n",
      "\n",
      "    accuracy                           0.90     25000\n",
      "   macro avg       0.91      0.89      0.89     25000\n",
      "weighted avg       0.91      0.90      0.90     25000\n",
      "\n"
     ]
    }
   ],
   "source": [
    "print(classification_report(y, harmonic))"
   ]
  },
  {
   "cell_type": "markdown",
   "id": "c22c430b-533d-4080-9c9e-2b9e34aab530",
   "metadata": {},
   "source": [
    "As can be seen, the model does an excellent job at predicting correct classes.\\\n",
    "Note the original CNN was trained on a different data set, which consists of LIGS signatures augmented with random translations.\\\n",
    "Thus, its excellent performance on the present unseen set of untranslated signals demonstrates its ability to make translation-invariant predictions."
   ]
  }
 ],
 "metadata": {
  "kernelspec": {
   "display_name": "ligs_DL",
   "language": "python",
   "name": "myenv"
  },
  "language_info": {
   "codemirror_mode": {
    "name": "ipython",
    "version": 3
   },
   "file_extension": ".py",
   "mimetype": "text/x-python",
   "name": "python",
   "nbconvert_exporter": "python",
   "pygments_lexer": "ipython3",
   "version": "3.9.6"
  }
 },
 "nbformat": 4,
 "nbformat_minor": 5
}
